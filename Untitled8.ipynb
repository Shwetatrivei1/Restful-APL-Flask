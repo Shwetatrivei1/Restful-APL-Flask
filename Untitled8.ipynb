{
  "nbformat": 4,
  "nbformat_minor": 0,
  "metadata": {
    "colab": {
      "provenance": []
    },
    "kernelspec": {
      "name": "python3",
      "display_name": "Python 3"
    },
    "language_info": {
      "name": "python"
    }
  },
  "cells": [
    {
      "cell_type": "markdown",
      "source": [
        "1. What is a RESTful API ?\n",
        "\n",
        "A RESTful API (Representational State Transfer API) is a way for applications to communicate with each other over the web using the principles of REST architecture. It provides a simple, scalable, and standardized approach to building APIs."
      ],
      "metadata": {
        "id": "GfSeY-B1r9ln"
      }
    },
    {
      "cell_type": "markdown",
      "source": [
        "2. Explain the concept of API specification ?\n",
        "\n",
        "An API specification is like a blueprint or contract that clearly defines how an API works — what requests clients can make, what data they need to send, and what responses they can expect.\n",
        "\n",
        "It provides rules and documentation for both API developers and users.\n",
        "\n",
        "\n"
      ],
      "metadata": {
        "id": "6VXY--MIsT8R"
      }
    },
    {
      "cell_type": "markdown",
      "source": [
        "3. What is Flask, and why is it popular for building APIs?\n",
        "\n",
        "Flask is a lightweight, open-source web framework for Python.\n",
        "\n",
        "It’s called a microframework because it provides the essentials for building web applications and APIs but doesn’t force you to use specific tools or libraries.\n",
        "\n",
        "Created by Armin Ronacher in 2010. Flask is a lightweight Python web framework that’s popular for building APIs because it’s simple, flexible, beginner-friendly, and has a rich ecosystem. It allows developers to quickly create RESTful APIs without the heavy overhead of larger frameworks."
      ],
      "metadata": {
        "id": "lBg4fGqWsvzS"
      }
    },
    {
      "cell_type": "markdown",
      "source": [
        "4. What is routing in Flask ?\n",
        "\n",
        "Routing is the process of mapping a URL (web address) to a specific Python function.\n",
        "\n",
        "When a user visits a URL, Flask checks its routing table and runs the corresponding function.\n",
        "\n",
        "These functions are often called view functions or endpoint functions.\n",
        "Flask provides a @app.route() decorator to define routes.\n",
        "\n",
        "Inside the decorator, you give the URL path.\n",
        "\n",
        "The decorated function runs whenever that URL is requested."
      ],
      "metadata": {
        "id": "UjzJHu1ftKYK"
      }
    },
    {
      "cell_type": "markdown",
      "source": [
        "5. M How do you create a simple Flask application ?\n",
        "\n",
        "Flask(__name__) → creates the Flask app.\n",
        "\n",
        "@app.route(\"/\") → maps a URL to a function.\n",
        "\n",
        "debug=True → enables auto-reload & detailed error messages.To create a simple Flask app, you just need to install Flask, create an app instance, define routes with @app.route(), and run the app.**bold text** ."
      ],
      "metadata": {
        "id": "P4W4_Y52tnLc"
      }
    },
    {
      "cell_type": "markdown",
      "source": [
        "6. What are HTTP methods used in RESTful APIs\n",
        "\n",
        "GET → Retrieve data\n",
        "\n",
        "Used to read or fetch information.\n",
        "\n",
        "Doesn’t change anything on the server.\n",
        "\n",
        "Example:\n",
        "\n",
        "GET /users → Get all users\n",
        "\n",
        "GET /users/101 → Get user with ID 101\n",
        "\n",
        "\n",
        "POST → Create new data\n",
        "\n",
        "Used to send data to the server to create a new resource.\n",
        "\n",
        "Example:\n",
        "\n",
        "POST /users\n",
        "\n",
        "Request body:  RESTful APIs mainly use GET (read), POST (create), PUT (update/replace), PATCH (update/modify), and DELETE (remove) to work with resources."
      ],
      "metadata": {
        "id": "TmrEUaWQuUKr"
      }
    },
    {
      "cell_type": "markdown",
      "source": [
        "7 .What is the purpose of the @app.route() decorator in Flask?\n",
        "\n",
        "The @app.route() decorator in Flask is used to map a URL (route) to a specific function in your application.\n",
        "\n",
        "When someone visits that URL in the browser (or calls it via API), the associated function (called a view function) is executed.\n",
        "\n",
        "The result of the function is then sent back as the HTTP response."
      ],
      "metadata": {
        "id": "QQQ2Jr2WvNeS"
      }
    },
    {
      "cell_type": "markdown",
      "source": [
        "8. What is the difference between GET and POST HTTP methods ?\n",
        "\n",
        "Purpose: Retrieve data from the server.\n",
        "\n",
        "Request Data Location: Query parameters (in the URL).\n",
        "\n",
        "Idempotent: Yes → Multiple identical GET requests won’t change anything.\n",
        "\n",
        "Cacheable: Yes → Browsers and CDNs can cache responses.\n",
        "\n",
        "Visibility: Data is visible in the URL.\n",
        "\n",
        "Purpose: Send data to the server (usually to create a new resource).\n",
        "\n",
        "Request Data Location: Request body (not the URL).\n",
        "\n",
        "Idempotent: No → Sending the same POST multiple times may create duplicate records.\n",
        "\n",
        "Cacheable: No → Responses are not usually cached.\n",
        "\n",
        "Visibility: Data is hidden in the request body (not shown in URL)."
      ],
      "metadata": {
        "id": "Gx4fz6JtwJ6F"
      }
    },
    {
      "cell_type": "markdown",
      "source": [
        "9. How do you handle errors in Flask APIs?\n",
        "\n",
        "Flask APIs, errors are handled using status codes, abort(), custom error handlers, try/except, or custom exceptions. The goal is to give the client clear, consistent JSON responses instead of raw error pages.\n",
        "\n",
        "\n",
        "200 OK → Success\n",
        "\n",
        "400 Bad Request → Client error (wrong input)\n",
        "\n",
        "401 Unauthorized → Authentication required\n",
        "\n",
        "404 Not Found → Resource not found\n",
        "\n",
        "500 Internal Server Error → Something went wrong on the server"
      ],
      "metadata": {
        "id": "XUrPv01vwpAI"
      }
    },
    {
      "cell_type": "markdown",
      "source": [
        "10. How do you connect Flask to a SQL database?\n",
        "\n",
        "SQLite is lightweight and comes with Python by default."
      ],
      "metadata": {
        "id": "IBiNQ2E8xUTh"
      }
    },
    {
      "cell_type": "code",
      "source": [
        "import sqlite3\n",
        "from flask import Flask, g\n",
        "\n",
        "app = Flask(__name__)\n",
        "DATABASE = \"mydb.sqlite\"\n",
        "\n",
        "def get_db():\n",
        "    if \"db\" not in g:\n",
        "        g.db = sqlite3.connect(DATABASE)\n",
        "    return g.db\n",
        "\n",
        "@app.teardown_appcontext\n",
        "def close_db(error):\n",
        "    if \"db\" in g:\n",
        "        g.db.close()\n",
        "\n",
        "@app.route(\"/create\")\n",
        "def create_table():\n",
        "    db = get_db()\n",
        "    db.execute(\"CREATE TABLE IF NOT EXISTS users (id INTEGER PRIMARY KEY, name TEXT)\")\n",
        "    db.commit()\n",
        "    return \"Table created!\"\n",
        "\n",
        "@app.route(\"/add/<name>\")\n",
        "def add_user(name):\n",
        "    db = get_db()\n",
        "    db.execute(\"INSERT INTO users (name) VALUES (?)\", (name,))\n",
        "    db.commit()\n",
        "    return f\"User {name} added!\"\n"
      ],
      "metadata": {
        "id": "rmqROH-Dx8Pq"
      },
      "execution_count": null,
      "outputs": []
    },
    {
      "cell_type": "markdown",
      "source": [
        "11. What is the role of Flask-SQLAlchemy ?\n",
        "\n",
        "Flask-SQLAlchemy is a Flask extension that integrates the SQLAlchemy ORM (Object Relational Mapper) with Flask.\n",
        "\n",
        "It makes it easier to connect your Flask app to SQL databases (like SQLite, MySQL, PostgreSQL).\n",
        "\n",
        "Instead of writing raw SQL queries, you work with Python classes and objects, and Flask-SQLAlchemy translates them into SQL automatically."
      ],
      "metadata": {
        "id": "IJpqPh8CyDft"
      }
    },
    {
      "cell_type": "markdown",
      "source": [
        "12. What are Flask blueprints, and how are they useful ?\n",
        "\n",
        "In Flask, a Blueprint is a way to organize your application into smaller, reusable modules.\n",
        "\n",
        "Think of a Blueprint as a mini Flask app inside your main app:\n",
        "\n",
        "It can define its own routes, templates, static files, and error handlers.\n",
        "\n",
        "Later, you register the blueprint with the main Flask app."
      ],
      "metadata": {
        "id": "Y8kjJPvtyRX_"
      }
    },
    {
      "cell_type": "markdown",
      "source": [
        "13. What is the purpose of Flask's request object ?\n",
        "\n",
        "In Flask, the request object represents the incoming HTTP request from a client (browser, mobile app, or another API).\n",
        "\n",
        "It gives your application access to all the data sent by the client, including form data, query parameters, headers, JSON payload, and more.\n",
        "\n",
        "It’s part of Flask’s global context, so you can use it inside your view functions without passing it explicitly."
      ],
      "metadata": {
        "id": "4i6IAC5uyh4L"
      }
    },
    {
      "cell_type": "markdown",
      "source": [
        "14. How do you create a RESTful API endpoint using Flask ?\n",
        "\n",
        "\n",
        "Creating a RESTful API endpoint using Flask is simple because Flask is lightweight and provides decorators for defining routes.\n",
        "Use @app.route() to map a URL path to a function.\n",
        "\n",
        "Specify allowed HTTP methods (GET, POST, PUT, DELETE)."
      ],
      "metadata": {
        "id": "FnfEbUZ0y7CO"
      }
    },
    {
      "cell_type": "markdown",
      "source": [
        "15.What is the purpose of Flask's jsonify() function ?\n",
        "\n",
        "\n",
        "In Flask, the jsonify() function is used to convert Python data structures (like dictionaries and lists) into JSON format and send them as an HTTP response.jsonify() makes sure your Flask API responses are valid JSON, with the right headers, encoding, and formatting ."
      ],
      "metadata": {
        "id": "rENfxJi09Vdk"
      }
    },
    {
      "cell_type": "markdown",
      "source": [
        "16. Explain Flask’s url_for() function ?\n",
        "\n",
        "The url_for() function in Flask is used to build a URL for a specific function (endpoint) in your application.\n",
        "\n",
        "Instead of writing URLs manually (like /home or /user/123), you call url_for('function_name', ...).\n",
        "Flask then generates the correct URL for you, even if routes change later."
      ],
      "metadata": {
        "id": "lOsdFmOI9nIn"
      }
    },
    {
      "cell_type": "markdown",
      "source": [],
      "metadata": {
        "id": "vCMLia7u9zpI"
      }
    },
    {
      "cell_type": "markdown",
      "source": [
        "17. How does Flask handle static files (CSS, JavaScript, etc.)?\n",
        "\n",
        "Default static Folder\n",
        "\n",
        "By convention, Flask looks for static files in a folder named static/ inside your project directory.\n",
        "\n",
        "\n",
        "Flask automatically serves files in the static/ folder at the URL path:\n",
        "\n",
        "/static/<filename>\n",
        "\n",
        "Using url_for() in Templates\n",
        "\n",
        "Instead of hardcoding /static/..., you should use url_for('static', filename='...').\n",
        "\n",
        "Example in an HTML template (templates/index.html):"
      ],
      "metadata": {
        "id": "3bpdW6MP9z4d"
      }
    },
    {
      "cell_type": "markdown",
      "source": [
        "18.  What is an API specification, and how does it help in building a Flask API?\n",
        "\n",
        "An API specification is a detailed description of how an API works — it defines the endpoints, request formats, response formats, authentication methods, and error handling rules.\n",
        "\n",
        "OpenAPI (Swagger) → most popular\n",
        "\n",
        "RAML (RESTful API Modeling Language)\n",
        "\n",
        "API Blueprint\n",
        "Endpoints (routes) → e.g., /users, /products/<id>\n",
        "\n",
        "HTTP methods → GET, POST, PUT, DELETE\n",
        "\n",
        "Request format → query params, path params, body (JSON/XML)\n",
        "\n",
        "Response format → JSON structure, status codes\n",
        "\n",
        "Authentication → e.g., API keys, JWT tokens\n",
        "\n",
        "Error responses → standardized messages\n",
        "\n",
        "How does it help in building a Flask API?\n",
        "\n",
        "Clear Documentation\n",
        "\n",
        "Developers know exactly how to use your API.\n",
        "\n",
        "Example: Swagger UI can auto-generate interactive docs.\n",
        "\n",
        "Consistency\n",
        "\n",
        "Ensures all endpoints follow the same style (naming, responses, error handling).\n",
        "\n",
        "Collaboration\n",
        "\n",
        "Frontend and backend teams can work in parallel.\n",
        "\n",
        "Example: Frontend can mock API calls before backend is fully built.\n",
        "\n",
        "Validation\n",
        "\n",
        "You can validate requests and responses against the spec (e.g., with libraries like flask-swagger or apispec).\n",
        "\n",
        "Future Maintenance\n",
        "\n",
        "Easier to add new endpoints or update old ones because the spec acts as a single source of truth."
      ],
      "metadata": {
        "id": "2YfQwIen-Q2C"
      }
    },
    {
      "cell_type": "markdown",
      "source": [
        "19 .What are HTTP status codes, and why are they important in a Flask API?\n",
        "\n",
        "HTTP status codes are 3-digit numbers sent by a server in response to a client’s request.\n",
        "They indicate whether the request was successful, failed, or requires some extra action.\n",
        "\n",
        "Categories of HTTP Status Codes\n",
        "\n",
        "1xx – Informational\n",
        "→ Request received, still processing. (e.g., 100 Continue)\n",
        "\n",
        "2xx – Success\n",
        "→ Request completed successfully.\n",
        "\n",
        "200 OK → Request succeeded\n",
        "\n",
        "201 Created → Resource created successfully\n",
        "\n",
        "204 No Content → Success, but no data to return\n",
        "\n",
        "3xx – Redirection\n",
        "→ Further action needed (redirect).\n",
        "\n",
        "301 Moved Permanently\n",
        "\n",
        "302 Found (temporary redirect)\n",
        "\n",
        "4xx – Client Errors\n",
        "→ Problem with the request.\n",
        "\n",
        "400 Bad Request → Invalid input\n",
        "\n",
        "401 Unauthorized → Authentication required\n",
        "\n",
        "403 Forbidden → Not allowed\n",
        "\n",
        "404 Not Found → Resource doesn’t exist\n",
        "\n",
        "5xx – Server Errors\n",
        "→ Server failed to process a valid request.\n",
        "\n",
        "500 Internal Server Error\n",
        "\n"
      ],
      "metadata": {
        "id": "qSdUpxUC-t0_"
      }
    },
    {
      "cell_type": "markdown",
      "source": [
        "20. How do you handle POST requests in Flask ?\n",
        "\n",
        "In Flask, POST requests are usually used to send data from the client to the server (e.g., creating a new record, submitting a form, sending JSON).\n",
        "\n",
        "Steps to Handle POST in Flask\n",
        "\n",
        "Allow POST in the route.\n",
        "\n",
        "Access data sent in the request\n",
        "\n",
        "Form data → request.form\n",
        "\n",
        "JSON data → request.get_json() ."
      ],
      "metadata": {
        "id": "0d0F54y-_Sa9"
      }
    },
    {
      "cell_type": "markdown",
      "source": [
        "21. How would you secure a Flask API\n",
        "\n",
        "Always run your API over https:// instead of http://.\n",
        "\n",
        "Encrypts communication so sensitive data (passwords, tokens) isn’t exposed.\n",
        "\n",
        "Usually configured via Nginx/Apache or a cloud provider (not Flask directly).\n",
        "\n",
        "🔹 2. Authentication & Authorization\n",
        "\n",
        "Ensure only authorized users can access endpoints.\n",
        "\n",
        "Common methods:\n",
        "\n",
        "API keys (simple, but less secure)\n",
        "JWT (JSON Web Tokens) – stateless and widely used\n",
        "\n",
        "OAuth2 – for third-party apps\n",
        "\n",
        "Example with JWT (using flask-jwt-extended) ."
      ],
      "metadata": {
        "id": "6lq7NP1eAhlp"
      }
    },
    {
      "cell_type": "markdown",
      "source": [
        "22. What is the significance of the Flask-RESTful extension?\n",
        "\n",
        "Flask-RESTful is an extension for Flask that makes it easier to build RESTful APIs. It provides tools and patterns to organize your API code cleanly, instead of manually handling routes, request parsing, and response formatting.\n",
        "\n",
        "Significance / Benefits\n",
        "\n",
        "Simplifies Route and Resource Management\n",
        "\n",
        "You can define a resource as a Python class, and map HTTP methods to class methods (get(), post(), put(), delete())."
      ],
      "metadata": {
        "id": "YQnazQE9BRAc"
      }
    },
    {
      "cell_type": "markdown",
      "source": [
        "23. What is the role of Flask’s session object ?\n",
        "\n",
        "The session object in Flask is used to store data that persists across requests for a particular user.\n",
        "\n",
        "Think of it as a server-side dictionary where you can save information about the user between requests, such as login status, preferences, or temporary data.\n",
        "\n",
        "Flask stores the session data securely in a cookie on the client-side, but it is signed using a secret key so it cannot be tampered with."
      ],
      "metadata": {
        "id": "p6zyl0bzBJrK"
      }
    }
  ]
}